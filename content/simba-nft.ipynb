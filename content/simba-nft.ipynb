{
 "cells": [
  {
   "cell_type": "markdown",
   "id": "ae979a7e",
   "metadata": {},
   "source": [
    "# Welcome to Simba Python SDK"
   ]
  },
  {
   "cell_type": "code",
   "execution_count": 2,
   "id": "28da245e",
   "metadata": {
    "slideshow": {
     "slide_type": "slide"
    }
   },
   "outputs": [],
   "source": [
    "import requests\n",
    "import json\n",
    "import pprint\n",
    "from libsimba.simba import Simba\n",
    "from web3 import Web3"
   ]
  },
  {
   "cell_type": "markdown",
   "id": "4d0a3a24",
   "metadata": {},
   "source": [
    "# Instantiate the Simba Class"
   ]
  },
  {
   "cell_type": "code",
   "execution_count": 3,
   "id": "b1730f30",
   "metadata": {
    "slideshow": {
     "slide_type": "slide"
    }
   },
   "outputs": [
    {
     "name": "stderr",
     "output_type": "stream",
     "text": [
      "INFO:libsimba.auth.client_credentials:Failed ClientCredentials._is_authenticated()\n",
      "INFO:libsimba.auth.client_credentials:Redoing auth\n",
      "INFO:libsimba.utils:Saved token : ./nft-block_token.json\n"
     ]
    }
   ],
   "source": [
    "simba = Simba()\n",
    "whoami = simba.whoami()"
   ]
  },
  {
   "cell_type": "markdown",
   "id": "c770c618",
   "metadata": {},
   "source": [
    "# Create smart contract client for deployed NFT contract"
   ]
  },
  {
   "cell_type": "code",
   "execution_count": 4,
   "id": "7f7df2ec",
   "metadata": {
    "slideshow": {
     "slide_type": "slide"
    }
   },
   "outputs": [],
   "source": [
    "APP_NAME = 'nft-block'\n",
    "CONTRACT_NAME = 'SIMBAERC721FinalV3'\n",
    "nft_contract = simba.smart_contract_client(APP_NAME, CONTRACT_NAME)"
   ]
  },
  {
   "cell_type": "markdown",
   "id": "12e5b48f",
   "metadata": {},
   "source": [
    "# Grant minter role for user account"
   ]
  },
  {
   "cell_type": "code",
   "execution_count": 5,
   "id": "dbf985fb",
   "metadata": {
    "slideshow": {
     "slide_type": "slide"
    }
   },
   "outputs": [],
   "source": [
    "GRANT_MINTER_ROLE = \"grantRole\"\n",
    "MINT_ROLE_HASH_VALUE = \"0x9f2df0fed2c77648de5860a4cc508cd0818c85b8b8a1ab4ceeef8d981c8956a6\"\n",
    "USER_ACCOUNT = \"0xfE0d13C0330a43e7841F7AF647BE215e41696AF5\"\n",
    "\n",
    "INPUTS = {\n",
    "  \"account\": USER_ACCOUNT,\n",
    "  \"role\": MINT_ROLE_HASH_VALUE\n",
    "}\n",
    "r = nft_contract.call_method(GRANT_MINTER_ROLE,INPUTS )"
   ]
  },
  {
   "cell_type": "markdown",
   "id": "latin-video",
   "metadata": {},
   "source": [
    "# Get the list of transctions"
   ]
  },
  {
   "cell_type": "code",
   "execution_count": 6,
   "id": "b6320273",
   "metadata": {
    "slideshow": {
     "slide_type": "slide"
    }
   },
   "outputs": [
    {
     "name": "stdout",
     "output_type": "stream",
     "text": [
      "35\n"
     ]
    }
   ],
   "source": [
    "r = nft_contract.get_transactions()\n",
    "pprint.pprint(len(r))"
   ]
  },
  {
   "cell_type": "markdown",
   "id": "continental-disclaimer",
   "metadata": {},
   "source": [
    "# Filter transactions based on search certeria"
   ]
  },
  {
   "cell_type": "code",
   "execution_count": 8,
   "id": "15586774",
   "metadata": {
    "slideshow": {
     "slide_type": "slide"
    }
   },
   "outputs": [],
   "source": [
    "from libsimba import SearchFilter\n",
    "query_args = SearchFilter(transaction_hash = \"0xb269d8a239c1f2c7c99123d0f571465629e9a10a1018295370e772d4ff29a3ce\")\n",
    "r = nft_contract.get_transactions(page_size=9999)\n",
    "txns = list(filter(lambda txn: txn['transaction_hash'] == '0xb269d8a239c1f2c7c99123d0f571465629e9a10a1018295370e772d4ff29a3ce', r))"
   ]
  },
  {
   "cell_type": "markdown",
   "id": "interstate-orbit",
   "metadata": {},
   "source": [
    "# Construct params to Mint NFT"
   ]
  },
  {
   "cell_type": "code",
   "execution_count": 9,
   "id": "561302db",
   "metadata": {
    "slideshow": {
     "slide_type": "slide"
    }
   },
   "outputs": [],
   "source": [
    "def convert_string_bytess32(input_string):\n",
    "\n",
    "    len1 = len(input_string)\n",
    "    if len1 > 32:\n",
    "        input_string = input_string[:32]\n",
    "    else:\n",
    "        input_string = input_string.ljust(32, '0')\n",
    "    xBytes32 = Web3.toHex(text=input_string)\n",
    "    return str(xBytes32)\n",
    "\n",
    "\n",
    "import ipywidgets as widgets\n",
    "nft_description = \"Simba-Test-NFT\"\n",
    "metadata_name = \"Simba-Test\"\n",
    "file_url = \"https://images.app.goo.gl/benHfLFfPDDKqx5C9\"\n",
    "to = \"0xfE0d13C0330a43e7841F7AF647BE215e41696AF5\"\n",
    "fileString = \"simba\"\n",
    "MINT_FUNCTION = \"mint\"\n",
    "\n",
    "MINT_PARAMS = {\n",
    "    \"contentHash\": \"0x56fe1b975ac87d1e4fec2868f2fe7be17b37b420143870dd5913663701726083\",\n",
    "    \"description\": [convert_string_bytess32(nft_description),convert_string_bytess32(nft_description),convert_string_bytess32(nft_description),convert_string_bytess32(nft_description)],\n",
    "    \"hashFunction\": 27,\n",
    "    \"image\": [convert_string_bytess32(file_url),convert_string_bytess32(file_url),convert_string_bytess32(file_url),convert_string_bytess32(file_url)],\n",
    "    \"name\": \"0x53696d62612d5465737400000000000000000000000000000000000000000000\",\n",
    "    \"to\": to\n",
    "}"
   ]
  },
  {
   "cell_type": "markdown",
   "id": "signed-slovakia",
   "metadata": {},
   "source": [
    "# Mint NFT"
   ]
  },
  {
   "cell_type": "code",
   "execution_count": 10,
   "id": "9137d726",
   "metadata": {
    "slideshow": {
     "slide_type": "slide"
    }
   },
   "outputs": [
    {
     "name": "stdout",
     "output_type": "stream",
     "text": [
      "{'app': '1bca1ff2-ded4-4cf1-829b-cea78867e425',\n",
      " 'block': None,\n",
      " 'blockchain': '519ba6ac-cb89-4a66-81db-0fdc0304700d',\n",
      " 'bundle': None,\n",
      " 'confirmations': 0,\n",
      " 'contract': {'api_name': 'SIMBAERC721FinalV3',\n",
      "              'id': '926f0479-51b5-46ae-ac97-078a2b761944'},\n",
      " 'created_by': 16,\n",
      " 'created_on': '2022-05-19T01:57:28.584494Z',\n",
      " 'error': None,\n",
      " 'error_details': {},\n",
      " 'finalized_on': None,\n",
      " 'from_address': '0x263674F945b6903Cd421d755337710DD8083fcC1',\n",
      " 'id': '3784d370-7028-4d2f-bcd1-9d3186580b98',\n",
      " 'inputs': {'contentHash': '0x56fe1b975ac87d1e4fec2868f2fe7be17b37b420143870dd5913663701726083',\n",
      "            'description': ['0x53696d62612d546573742d4e4654303030303030303030303030303030303030',\n",
      "                            '0x53696d62612d546573742d4e4654303030303030303030303030303030303030',\n",
      "                            '0x53696d62612d546573742d4e4654303030303030303030303030303030303030',\n",
      "                            '0x53696d62612d546573742d4e4654303030303030303030303030303030303030'],\n",
      "            'hashFunction': 27,\n",
      "            'image': ['0x68747470733a2f2f696d616765732e6170702e676f6f2e676c2f62656e48664c',\n",
      "                      '0x68747470733a2f2f696d616765732e6170702e676f6f2e676c2f62656e48664c',\n",
      "                      '0x68747470733a2f2f696d616765732e6170702e676f6f2e676c2f62656e48664c',\n",
      "                      '0x68747470733a2f2f696d616765732e6170702e676f6f2e676c2f62656e48664c'],\n",
      "            'name': '0x53696d62612d5465737400000000000000000000000000000000000000000000',\n",
      "            'to': '0xfE0d13C0330a43e7841F7AF647BE215e41696AF5'},\n",
      " 'method': 'mint',\n",
      " 'nonce': 251,\n",
      " 'origin': 'SCAAS',\n",
      " 'raw_transaction': {'chainId': '0x13881',\n",
      "                     'data': '0xaab2b788000000000000000000000000fe0d13c0330a43e7841f7af647be215e41696af5000000000000000000000000000000000000000000000000000000000000001b56fe1b975ac87d1e4fec2868f2fe7be17b37b420143870dd591366370172608353696d62612d546573740000000000000000000000000000000000000000000053696d62612d546573742d4e465430303030303030303030303030303030303053696d62612d546573742d4e465430303030303030303030303030303030303053696d62612d546573742d4e465430303030303030303030303030303030303053696d62612d546573742d4e465430303030303030303030303030303030303068747470733a2f2f696d616765732e6170702e676f6f2e676c2f62656e48664c68747470733a2f2f696d616765732e6170702e676f6f2e676c2f62656e48664c68747470733a2f2f696d616765732e6170702e676f6f2e676c2f62656e48664c68747470733a2f2f696d616765732e6170702e676f6f2e676c2f62656e48664c',\n",
      "                     'from': '0x263674F945b6903Cd421d755337710DD8083fcC1',\n",
      "                     'gas': '0x53282',\n",
      "                     'maxFeePerGas': '0xf0f46af0a',\n",
      "                     'maxPriorityFeePerGas': '0xf0f46aef2',\n",
      "                     'nonce': '0xfb',\n",
      "                     'to': '0x765eCADEFd276f5c622848BBD71b880e81Cb372A',\n",
      "                     'value': '0x0'},\n",
      " 'receipt': {},\n",
      " 'request_id': '5e029126-71d3-4664-bc31-b70911fa6a31',\n",
      " 'signed_transaction': {'hash': '0xc13ad08c78e25d5ca12c6b29f6aebd32bc4e7fca2773b5d108482556bbf7930f',\n",
      "                        'r': 24271273592144047777715266953213580571732055963188663003691546345346570616243,\n",
      "                        'rawTransaction': '0x02f901f78301388181fb850f0f46aef2850f0f46af0a8305328294765ecadefd276f5c622848bbd71b880e81cb372a80b90184aab2b788000000000000000000000000fe0d13c0330a43e7841f7af647be215e41696af5000000000000000000000000000000000000000000000000000000000000001b56fe1b975ac87d1e4fec2868f2fe7be17b37b420143870dd591366370172608353696d62612d546573740000000000000000000000000000000000000000000053696d62612d546573742d4e465430303030303030303030303030303030303053696d62612d546573742d4e465430303030303030303030303030303030303053696d62612d546573742d4e465430303030303030303030303030303030303053696d62612d546573742d4e465430303030303030303030303030303030303068747470733a2f2f696d616765732e6170702e676f6f2e676c2f62656e48664c68747470733a2f2f696d616765732e6170702e676f6f2e676c2f62656e48664c68747470733a2f2f696d616765732e6170702e676f6f2e676c2f62656e48664c68747470733a2f2f696d616765732e6170702e676f6f2e676c2f62656e48664cc001a035a90dd4ee13183f83bdadfe9e8cdab13b8cdd8ebaeba3ca2b1b132c38d37db3a06f696e7bb58451b2a36e77792124dff3f19a886b1a4adb1de1bfb5c312979f65',\n",
      "                        's': 50393007661831844211304014032270744947078142504634846821904412000812636020581,\n",
      "                        'v': 1},\n",
      " 'state': 'SUBMITTED',\n",
      " 'to_address': None,\n",
      " 'transaction_hash': '0xc13ad08c78e25d5ca12c6b29f6aebd32bc4e7fca2773b5d108482556bbf7930f',\n",
      " 'transaction_type': 'MC',\n",
      " 'value': '0'}\n"
     ]
    }
   ],
   "source": [
    "r = nft_contract.call_method(MINT_FUNCTION,MINT_PARAMS )\n",
    "pprint.pprint(r)"
   ]
  },
  {
   "cell_type": "markdown",
   "id": "searching-pillow",
   "metadata": {},
   "source": [
    "# Get the mint events which has token IDs"
   ]
  },
  {
   "cell_type": "code",
   "execution_count": 11,
   "id": "391cb5ba",
   "metadata": {
    "slideshow": {
     "slide_type": "slide"
    }
   },
   "outputs": [
    {
     "name": "stdout",
     "output_type": "stream",
     "text": [
      "{'count': 10,\n",
      " 'next': None,\n",
      " 'previous': None,\n",
      " 'results': [{'created_on': '2022-05-11T18:46:24.554647Z',\n",
      "              'event_name': 'Transfer',\n",
      "              'id': '7b0c3f7c-0687-4db4-9517-f47687adcc50',\n",
      "              'inputs': {'from': '0x0000000000000000000000000000000000000000',\n",
      "                         'to': '0x263674F945b6903Cd421d755337710DD8083fcC1',\n",
      "                         'tokenId': 30272971267171905689299986712206093894486385167555514834350571564154233137546},\n",
      "              'transaction': '0405d66c-03ab-428c-a4ac-a47cddd29357',\n",
      "              'updated_on': '2022-05-11T18:46:24.554672Z'},\n",
      "             {'created_on': '2022-05-11T18:07:30.608651Z',\n",
      "              'event_name': 'Transfer',\n",
      "              'id': '0b7bee56-4282-4ace-9f1d-0c536cc6e448',\n",
      "              'inputs': {'from': '0x0000000000000000000000000000000000000000',\n",
      "                         'to': '0x263674F945b6903Cd421d755337710DD8083fcC1',\n",
      "                         'tokenId': 30272971267171905689299986712206093894486385167555514834350571564154233137546},\n",
      "              'transaction': '0405d66c-03ab-428c-a4ac-a47cddd29357',\n",
      "              'updated_on': '2022-05-11T18:07:30.608672Z'},\n",
      "             {'created_on': '2022-05-11T10:11:27.616267Z',\n",
      "              'event_name': 'Transfer',\n",
      "              'id': '04e14846-9a96-421e-9e86-d008ce91463f',\n",
      "              'inputs': {'from': '0x0000000000000000000000000000000000000000',\n",
      "                         'to': '0xfE0d13C0330a43e7841F7AF647BE215e41696AF5',\n",
      "                         'tokenId': 70072482446625165817155283029998054314344829236173438043462631104984852024558},\n",
      "              'transaction': 'cbfd09a4-4a1e-48d4-ad89-66e791a35823',\n",
      "              'updated_on': '2022-05-11T10:11:27.616293Z'},\n",
      "             {'created_on': '2022-05-11T04:11:23.744953Z',\n",
      "              'event_name': 'Transfer',\n",
      "              'id': '6cfd68da-a07f-4eda-8f4c-39f4224f7eb0',\n",
      "              'inputs': {'from': '0x0000000000000000000000000000000000000000',\n",
      "                         'to': '0xfE0d13C0330a43e7841F7AF647BE215e41696AF5',\n",
      "                         'tokenId': 67687753636808699433866344691690247028138431525284230051834822853653507309209},\n",
      "              'transaction': 'd8a38ea7-555f-40af-972f-cc540c1649bf',\n",
      "              'updated_on': '2022-05-11T04:11:23.744972Z'},\n",
      "             {'created_on': '2022-05-11T00:04:32.331612Z',\n",
      "              'event_name': 'Transfer',\n",
      "              'id': '04ed7a3f-f846-41b3-bb19-b18e3119d849',\n",
      "              'inputs': {'from': '0x0000000000000000000000000000000000000000',\n",
      "                         'to': '0xfE0d13C0330a43e7841F7AF647BE215e41696AF5',\n",
      "                         'tokenId': 73468889476681125562173456177776579358239176533857401036369364054765285166723},\n",
      "              'transaction': '37586782-5ea5-45fa-a793-08035eda367c',\n",
      "              'updated_on': '2022-05-11T00:04:32.331643Z'},\n",
      "             {'created_on': '2022-05-11T00:03:13.230580Z',\n",
      "              'event_name': 'Transfer',\n",
      "              'id': '0f1c8e2c-3da8-491a-96a8-6f1f7a33e011',\n",
      "              'inputs': {'from': '0x0000000000000000000000000000000000000000',\n",
      "                         'to': '0xfE0d13C0330a43e7841F7AF647BE215e41696AF5',\n",
      "                         'tokenId': 95018802353485015909342005642896020461063059161293985428191390720751296040807},\n",
      "              'transaction': '92d8fa28-a6bc-4e9d-9179-651f565cedf2',\n",
      "              'updated_on': '2022-05-11T00:03:13.230603Z'},\n",
      "             {'created_on': '2022-05-10T23:19:12.984604Z',\n",
      "              'event_name': 'Transfer',\n",
      "              'id': '1f554f3d-a93f-4436-ba34-94d44ff6ea53',\n",
      "              'inputs': {'from': '0x0000000000000000000000000000000000000000',\n",
      "                         'to': '0xfE0d13C0330a43e7841F7AF647BE215e41696AF5',\n",
      "                         'tokenId': 93622226817032813754523984950287726958556289384475438982441140522913773289492},\n",
      "              'transaction': '155b4a27-cc92-448a-8230-8f8d1ac3ac2b',\n",
      "              'updated_on': '2022-05-10T23:19:12.984626Z'},\n",
      "             {'created_on': '2022-05-10T23:13:41.296500Z',\n",
      "              'event_name': 'Transfer',\n",
      "              'id': '581be326-a1c5-4f4e-ae36-843e7bcf4ea5',\n",
      "              'inputs': {'from': '0x0000000000000000000000000000000000000000',\n",
      "                         'to': '0xfE0d13C0330a43e7841F7AF647BE215e41696AF5',\n",
      "                         'tokenId': 44435812175859446422655130933743985927692430894657528162549498198569881688936},\n",
      "              'transaction': '31502837-fcb5-45fd-b1d8-09bac6b8a74f',\n",
      "              'updated_on': '2022-05-10T23:13:41.296520Z'},\n",
      "             {'created_on': '2022-05-10T22:31:49.339729Z',\n",
      "              'event_name': 'Transfer',\n",
      "              'id': '41a6041e-03e9-4834-9385-33a1f074d1d6',\n",
      "              'inputs': {'from': '0x0000000000000000000000000000000000000000',\n",
      "                         'to': '0xfE0d13C0330a43e7841F7AF647BE215e41696AF5',\n",
      "                         'tokenId': 70782273942830456586130980551228984805234240667134278101769724729872657967619},\n",
      "              'transaction': 'cbf4336d-cf04-4a58-8aae-02903962d98b',\n",
      "              'updated_on': '2022-05-10T22:31:49.339760Z'},\n",
      "             {'created_on': '2022-05-10T22:20:33.253383Z',\n",
      "              'event_name': 'Transfer',\n",
      "              'id': 'b202b532-7386-42c3-b154-7c9bac5ee08f',\n",
      "              'inputs': {'from': '0x0000000000000000000000000000000000000000',\n",
      "                         'to': '0xfE0d13C0330a43e7841F7AF647BE215e41696AF5',\n",
      "                         'tokenId': 80740664710169573592437565944314550136282618284099836549139235265052603148015},\n",
      "              'transaction': '89ec1fb6-e2dd-4377-bc9d-9f371d6dd2d5',\n",
      "              'updated_on': '2022-05-10T22:20:33.253404Z'}]}\n"
     ]
    }
   ],
   "source": [
    "url = \"https://us-central1-nft-drop-cloud-functions.cloudfunctions.net/v2/apps/contract/events/?app_name=nft-block&contract_name=SIMBAERC721FinalV3&event_name=Transfer\"\n",
    "r= requests.get(url)\n",
    "pprint.pprint(json.loads(r.text))"
   ]
  },
  {
   "cell_type": "markdown",
   "id": "median-competition",
   "metadata": {},
   "source": [
    "# Get the NFT information for a token ID"
   ]
  },
  {
   "cell_type": "code",
   "execution_count": 12,
   "id": "39967359",
   "metadata": {
    "slideshow": {
     "slide_type": "slide"
    }
   },
   "outputs": [
    {
     "name": "stdout",
     "output_type": "stream",
     "text": [
      "{'request_id': 'c8b710a9-2fdc-45f5-b6c3-3adedb63545f',\n",
      " 'state': 'COMPLETED',\n",
      " 'value': 'data:application/json;base64,eyJuYW1lIjoiU2ltYmEtVGVzdCIsIm11bHRpaGFzaCI6IjB4MWIyMDU2ZmUxYjk3NWFjODdkMWU0ZmVjMjg2OGYyZmU3YmUxN2IzN2I0MjAxNDM4NzBkZDU5MTM2NjM3MDE3MjYwODMiLCJjb250ZW50SGFzaCI6IjB4NTZmZTFiOTc1YWM4N2QxZTRmZWMyODY4ZjJmZTdiZTE3YjM3YjQyMDE0Mzg3MGRkNTkxMzY2MzcwMTcyNjA4MyIsImRlc2NyaXB0aW9uIjoiU2ltYmEtVGVzdC12MSIsImltYWdlIjoiaHR0cHM6Ly9pcGZzLmluZnVyYS5pby9pcGZzL1FtVWhtQ3ZkdHQyUGZiTFNCNHVneXp0MnVHdktzbkFrbXc3WVBTaGpkTHVXRUMifQ=='}\n"
     ]
    }
   ],
   "source": [
    "url = 'https://us-central1-nft-drop-cloud-functions.cloudfunctions.net/v2/apps/contract/?app_name=nft-block&contract_name=SIMBAERC721FinalV3&tokenId=80740664710169573592437565944314550136282618284099836549139235265052603148015&method_name=tokenURI'\n",
    "r= requests.get(url)\n",
    "pprint.pprint(json.loads(r.text))"
   ]
  },
  {
   "cell_type": "code",
   "execution_count": null,
   "id": "62838859",
   "metadata": {},
   "outputs": [],
   "source": []
  }
 ],
 "metadata": {
  "celltoolbar": "Raw Cell Format",
  "kernelspec": {
   "display_name": "simba",
   "language": "python",
   "name": "simba"
  },
  "language_info": {
   "codemirror_mode": {
    "name": "ipython",
    "version": 3
   },
   "file_extension": ".py",
   "mimetype": "text/x-python",
   "name": "python",
   "nbconvert_exporter": "python",
   "pygments_lexer": "ipython3",
   "version": "3.9.2"
  }
 },
 "nbformat": 4,
 "nbformat_minor": 5
}
